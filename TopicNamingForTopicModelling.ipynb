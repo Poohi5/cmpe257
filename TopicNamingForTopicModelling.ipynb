{
  "nbformat": 4,
  "nbformat_minor": 0,
  "metadata": {
    "colab": {
      "name": "TopicNamingForTopicModelling.ipynb",
      "provenance": [],
      "collapsed_sections": [],
      "include_colab_link": true
    },
    "kernelspec": {
      "name": "python3",
      "display_name": "Python 3"
    }
  },
  "cells": [
    {
      "cell_type": "markdown",
      "metadata": {
        "id": "view-in-github",
        "colab_type": "text"
      },
      "source": [
        "<a href=\"https://colab.research.google.com/github/Poohi5/cmpe257/blob/master/TopicNamingForTopicModelling.ipynb\" target=\"_parent\"><img src=\"https://colab.research.google.com/assets/colab-badge.svg\" alt=\"Open In Colab\"/></a>"
      ]
    },
    {
      "cell_type": "markdown",
      "metadata": {
        "id": "XLEDWHbXLnLg",
        "colab_type": "text"
      },
      "source": [
        "#Topic Naming for Topic Modelling\n",
        "\n",
        "Used 3 Articles from \"State of the Union Corpus\" Kaggle dataset for Topic Modeling using LDA.\n",
        "\n",
        "The Articles can be accessed from the link below:\n",
        "\n",
        "https://www.kaggle.com/rtatman/state-of-the-union-corpus-1989-2017\n",
        "\n"
      ]
    },
    {
      "cell_type": "markdown",
      "metadata": {
        "id": "X7yXoRrbLyf4",
        "colab_type": "text"
      },
      "source": [
        "###Importing all necessary libraries"
      ]
    },
    {
      "cell_type": "code",
      "metadata": {
        "id": "oGOHIlNlZXrr",
        "colab_type": "code",
        "colab": {}
      },
      "source": [
        "!pip install -U -q PyDrive\n",
        "from pydrive.auth import GoogleAuth\n",
        "from pydrive.drive import GoogleDrive\n",
        "from google.colab import auth\n",
        "from oauth2client.client import GoogleCredentials"
      ],
      "execution_count": 0,
      "outputs": []
    },
    {
      "cell_type": "code",
      "metadata": {
        "id": "2WQSRkTAbS7N",
        "colab_type": "code",
        "colab": {}
      },
      "source": [
        "auth.authenticate_user()\n",
        "gauth = GoogleAuth()\n",
        "gauth.credentials = GoogleCredentials.get_application_default()\n",
        "drive = GoogleDrive(gauth)"
      ],
      "execution_count": 0,
      "outputs": []
    },
    {
      "cell_type": "code",
      "metadata": {
        "id": "Pbw2q7VSbV70",
        "colab_type": "code",
        "colab": {}
      },
      "source": [
        "link = 'https://drive.google.com/file/d/1v56DSUQt3odRhCcSQiekofwCvpXMEAoW/view?usp=sharing'"
      ],
      "execution_count": 0,
      "outputs": []
    },
    {
      "cell_type": "markdown",
      "metadata": {
        "id": "UHHzfH-xOA9I",
        "colab_type": "text"
      },
      "source": [
        "\n",
        "Three articles namely 'Obama_2014', 'Obama_2016', 'Trump_2017' were merged into a single file called 'Merge.txt' and is saved in shared  Google drive folder. \n",
        "\n"
      ]
    },
    {
      "cell_type": "code",
      "metadata": {
        "id": "6rvrHe1zbdYc",
        "colab_type": "code",
        "colab": {}
      },
      "source": [
        "downloaded = drive.CreateFile({'id':\"1v56DSUQt3odRhCcSQiekofwCvpXMEAoW\"}) \n",
        "downloaded.GetContentFile('Merge.txt')"
      ],
      "execution_count": 0,
      "outputs": []
    },
    {
      "cell_type": "markdown",
      "metadata": {
        "id": "Xp4VBXexN28W",
        "colab_type": "text"
      },
      "source": [
        "Import regular expression "
      ]
    },
    {
      "cell_type": "code",
      "metadata": {
        "id": "PhBCKW1udHUy",
        "colab_type": "code",
        "colab": {}
      },
      "source": [
        "import re"
      ],
      "execution_count": 0,
      "outputs": []
    },
    {
      "cell_type": "markdown",
      "metadata": {
        "id": "L6x1zkQPN8Pb",
        "colab_type": "text"
      },
      "source": [
        "Import Numpy and Pandas Modules"
      ]
    },
    {
      "cell_type": "code",
      "metadata": {
        "id": "fCKt2Bf5cauu",
        "colab_type": "code",
        "colab": {}
      },
      "source": [
        "import pandas as pd\n",
        "import numpy as np\n",
        "df = pd.read_fwf('Merge.txt')\n"
      ],
      "execution_count": 0,
      "outputs": []
    },
    {
      "cell_type": "markdown",
      "metadata": {
        "id": "fJv5CcUUQZRG",
        "colab_type": "text"
      },
      "source": [
        "##Data Preprocessing"
      ]
    },
    {
      "cell_type": "markdown",
      "metadata": {
        "id": "R5Cz9XcsL7Ql",
        "colab_type": "text"
      },
      "source": [
        "Converting txt to csv file"
      ]
    },
    {
      "cell_type": "code",
      "metadata": {
        "id": "myCW1_0x4Bj-",
        "colab_type": "code",
        "colab": {}
      },
      "source": [
        "df.to_csv('Merge.csv')"
      ],
      "execution_count": 0,
      "outputs": []
    },
    {
      "cell_type": "code",
      "metadata": {
        "id": "ZkVaqSjNc_iA",
        "colab_type": "code",
        "colab": {}
      },
      "source": [
        "data = pd.read_csv('Merge.csv',header=None)"
      ],
      "execution_count": 0,
      "outputs": []
    },
    {
      "cell_type": "code",
      "metadata": {
        "id": "qbICqTMQdCCh",
        "colab_type": "code",
        "colab": {}
      },
      "source": [
        "data['text'] = data[1]"
      ],
      "execution_count": 0,
      "outputs": []
    },
    {
      "cell_type": "code",
      "metadata": {
        "id": "muHK3Uu4dEm6",
        "colab_type": "code",
        "colab": {}
      },
      "source": [
        "data['text'] = data['text'].map(lambda x: re.sub('[,\\.!?]', '', x))"
      ],
      "execution_count": 0,
      "outputs": []
    },
    {
      "cell_type": "code",
      "metadata": {
        "id": "L-PyiJtPdPY4",
        "colab_type": "code",
        "colab": {}
      },
      "source": [
        "data['text'] = data['text'].map(lambda x: x.lower())"
      ],
      "execution_count": 0,
      "outputs": []
    },
    {
      "cell_type": "code",
      "metadata": {
        "id": "3kVNn9hBdSxN",
        "colab_type": "code",
        "outputId": "b3ddad97-5077-4015-e9c4-76fcd502ac93",
        "colab": {
          "base_uri": "https://localhost:8080/",
          "height": 119
        }
      },
      "source": [
        "data['text'].head()"
      ],
      "execution_count": 13,
      "outputs": [
        {
          "output_type": "execute_result",
          "data": {
            "text/plain": [
              "0    mr speaker mr vice president members of congre...\n",
              "1                                           americans:\n",
              "2    today in america a teacher spent extra time wi...\n",
              "3    it and did her part to lift america's graduati...\n",
              "4                     level in more than three decades\n",
              "Name: text, dtype: object"
            ]
          },
          "metadata": {
            "tags": []
          },
          "execution_count": 13
        }
      ]
    },
    {
      "cell_type": "markdown",
      "metadata": {
        "id": "hpQ4kban4Hco",
        "colab_type": "text"
      },
      "source": [
        "##Latent Dirichlet Allocation [LDA]"
      ]
    },
    {
      "cell_type": "code",
      "metadata": {
        "id": "dJPVdQ7cdW2P",
        "colab_type": "code",
        "colab": {}
      },
      "source": [
        "from sklearn.feature_extraction.text import CountVectorizer\n",
        "import numpy as np"
      ],
      "execution_count": 0,
      "outputs": []
    },
    {
      "cell_type": "code",
      "metadata": {
        "id": "1cBpz1ccdu6n",
        "colab_type": "code",
        "colab": {}
      },
      "source": [
        "import matplotlib.pyplot as plt\n",
        "%matplotlib inline"
      ],
      "execution_count": 0,
      "outputs": []
    },
    {
      "cell_type": "markdown",
      "metadata": {
        "id": "hT1c-X1eO2EZ",
        "colab_type": "text"
      },
      "source": [
        "Converted a list of titles into a list of vectors with length equal to the vocabulary. \n",
        "Then plotted the 10 most common words based on the list of document vectors."
      ]
    },
    {
      "cell_type": "markdown",
      "metadata": {
        "id": "qxoTIqQP6ArF",
        "colab_type": "text"
      },
      "source": [
        "Reference https://towardsdatascience.com/the-hottest-topics-in-machine-learning-866ae21ba22d"
      ]
    },
    {
      "cell_type": "markdown",
      "metadata": {
        "id": "AaBZPDouMSMV",
        "colab_type": "text"
      },
      "source": [
        "###Plotting top 10 common words"
      ]
    },
    {
      "cell_type": "code",
      "metadata": {
        "id": "TI5NgCOLdgt5",
        "colab_type": "code",
        "outputId": "98062721-abbd-473c-8064-15343e1561cc",
        "colab": {
          "base_uri": "https://localhost:8080/",
          "height": 624
        }
      },
      "source": [
        "def Plot(count_data, count_vectorizer):\n",
        "    import matplotlib.pyplot as plt\n",
        "    words = count_vectorizer.get_feature_names()\n",
        "    total_counts = np.zeros(len(words))\n",
        "    for t in count_data:\n",
        "        total_counts+=t.toarray()[0]\n",
        "    \n",
        "    count_dict = (zip(words, total_counts))\n",
        "    count_dict = sorted(count_dict, key=lambda x:x[1], reverse=True)[0:10]\n",
        "    words = [w[0] for w in count_dict]\n",
        "    counts = [w[1] for w in count_dict]\n",
        "    x_pos = np.arange(len(words)) \n",
        "    \n",
        "    plt.figure(2, figsize=(15, 15/1.6180))\n",
        "    plt.subplot(title='10 most common words')\n",
        "    plt.bar(x_pos, counts,align='center')\n",
        "    plt.xticks(x_pos, words, rotation=90) \n",
        "    plt.xlabel('words')\n",
        "    plt.ylabel('counts')\n",
        "    plt.show()\n",
        "\n",
        "count_vectorizer = CountVectorizer(stop_words='english') #count vectorizer with stop words\n",
        "count_data = count_vectorizer.fit_transform(data['text'])\n",
        "Plot(count_data, count_vectorizer)\n"
      ],
      "execution_count": 17,
      "outputs": [
        {
          "output_type": "display_data",
          "data": {
            "image/png": "[encoded data removed]",
            "text/plain": [
              "<Figure size 1080x667.491 with 1 Axes>"
            ]
          },
          "metadata": {
            "tags": [],
            "needs_background": "light"
          }
        }
      ]
    },
    {
      "cell_type": "markdown",
      "metadata": {
        "id": "0R8Ojap6PE16",
        "colab_type": "text"
      },
      "source": [
        "**Figure Above** shows the top most words in the Corpus are America, American, new, people, work, world, americans, country, year,.. This gives a context that the topics mostly talks about the Nation America and it's people"
      ]
    },
    {
      "cell_type": "markdown",
      "metadata": {
        "id": "kBcBQG_SMW_D",
        "colab_type": "text"
      },
      "source": [
        "###Applying a LDA model "
      ]
    },
    {
      "cell_type": "code",
      "metadata": {
        "id": "JG5w45Nbdl-C",
        "colab_type": "code",
        "outputId": "960d804a-5a2f-431f-aa72-831560c0fccb",
        "colab": {
          "base_uri": "https://localhost:8080/",
          "height": 544
        }
      },
      "source": [
        "from sklearn.decomposition import LatentDirichletAllocation as LDA\n",
        "l = []\n",
        "def print_topics(model, count_vectorizer, n_top_words):\n",
        "    words = count_vectorizer.get_feature_names()\n",
        "    for topic_idx, topic in enumerate(model.components_):\n",
        "        print(\"\\nTopic #%d:\" % topic_idx)\n",
        "        print(\" \".join([words[i]\n",
        "                        for i in topic.argsort()[:-n_top_words - 1:-1]]))\n",
        "        l.append(\" \".join([words[i]\n",
        "                        for i in topic.argsort()[:-n_top_words - 1:-1]]))\n",
        "        \n",
        "number_topics = 10 #We will have 10 topics from these articles\n",
        "number_words = 10 #Number of words per Topic = 10\n",
        "lda = LDA(n_components=number_topics, n_jobs=-1, random_state=42)\n",
        "lda.fit(count_data)\n",
        "print(\"Topics found via LDA for the articles:\")\n",
        "print_topics(lda, count_vectorizer, number_words)"
      ],
      "execution_count": 18,
      "outputs": [
        {
          "output_type": "stream",
          "text": [
            "Topics found via LDA for the articles:\n",
            "\n",
            "Topic #0:\n",
            "just workers change want years day past businesses world americans\n",
            "\n",
            "Topic #1:\n",
            "americans america just nation people help know energy great good\n",
            "\n",
            "Topic #2:\n",
            "work help years high economy want access states working make\n",
            "\n",
            "Topic #3:\n",
            "new make people ve national world country americans american fair\n",
            "\n",
            "Topic #4:\n",
            "year work congress american tonight war god believe people republicans\n",
            "\n",
            "Topic #5:\n",
            "new jobs time america american business leaders americans ll future\n",
            "\n",
            "Topic #6:\n",
            "people american believe america right ve military want security opportunity\n",
            "\n",
            "Topic #7:\n",
            "let year ve immigration americans right work job working time\n",
            "\n",
            "Topic #8:\n",
            "country make america economy way communities great allies let new\n",
            "\n",
            "Topic #9:\n",
            "america world like job years country support come work american\n"
          ],
          "name": "stdout"
        }
      ]
    },
    {
      "cell_type": "markdown",
      "metadata": {
        "id": "8-4g1GG_QE9X",
        "colab_type": "text"
      },
      "source": [
        "**Output Above** from **LDA** shows 10 topics identified with corresponding words "
      ]
    },
    {
      "cell_type": "markdown",
      "metadata": {
        "id": "JAPrtiPm4LCw",
        "colab_type": "text"
      },
      "source": [
        "##Based on the words in the topics above, manually labelled the topics and saved as a csv file in a shared folder in Google Drive\n",
        "####Link to the Manually Labelled topics"
      ]
    },
    {
      "cell_type": "code",
      "metadata": {
        "id": "yBQwJrdPfOKv",
        "colab_type": "code",
        "colab": {}
      },
      "source": [
        "link = 'https://drive.google.com/file/d/13exn9tpHYLnKbRpxZTGmdxP96oTiW7AD/view?usp=sharing'"
      ],
      "execution_count": 0,
      "outputs": []
    },
    {
      "cell_type": "code",
      "metadata": {
        "id": "g1-GyQGfpGs0",
        "colab_type": "code",
        "colab": {}
      },
      "source": [
        "downloaded = drive.CreateFile({'id':\"13exn9tpHYLnKbRpxZTGmdxP96oTiW7AD\"}) \n",
        "downloaded.GetContentFile('LDALabellingNB.csv')"
      ],
      "execution_count": 0,
      "outputs": []
    },
    {
      "cell_type": "markdown",
      "metadata": {
        "id": "k7pZIpVXQnuk",
        "colab_type": "text"
      },
      "source": [
        "Get the csv file in pandas dataframe"
      ]
    },
    {
      "cell_type": "code",
      "metadata": {
        "id": "_kHowTthpNfr",
        "colab_type": "code",
        "colab": {}
      },
      "source": [
        "df_new =pd.read_csv('LDALabellingNB.csv')"
      ],
      "execution_count": 0,
      "outputs": []
    },
    {
      "cell_type": "code",
      "metadata": {
        "id": "-cfgq3QhpRcT",
        "colab_type": "code",
        "outputId": "21aea3e2-b4a7-447d-af4c-b6e095411228",
        "colab": {
          "base_uri": "https://localhost:8080/",
          "height": 359
        }
      },
      "source": [
        "df_new"
      ],
      "execution_count": 23,
      "outputs": [
        {
          "output_type": "execute_result",
          "data": {
            "text/html": [
              "<div>\n",
              "<style scoped>\n",
              "    .dataframe tbody tr th:only-of-type {\n",
              "        vertical-align: middle;\n",
              "    }\n",
              "\n",
              "    .dataframe tbody tr th {\n",
              "        vertical-align: top;\n",
              "    }\n",
              "\n",
              "    .dataframe thead th {\n",
              "        text-align: right;\n",
              "    }\n",
              "</style>\n",
              "<table border=\"1\" class=\"dataframe\">\n",
              "  <thead>\n",
              "    <tr style=\"text-align: right;\">\n",
              "      <th></th>\n",
              "      <th>Label</th>\n",
              "      <th>Word1</th>\n",
              "      <th>Word2</th>\n",
              "      <th>Word3</th>\n",
              "      <th>Word4</th>\n",
              "      <th>Word5</th>\n",
              "      <th>Word6</th>\n",
              "      <th>Word7</th>\n",
              "      <th>Word8</th>\n",
              "      <th>Word9</th>\n",
              "      <th>Word10</th>\n",
              "    </tr>\n",
              "  </thead>\n",
              "  <tbody>\n",
              "    <tr>\n",
              "      <th>0</th>\n",
              "      <td>Job assurance</td>\n",
              "      <td>job</td>\n",
              "      <td>new</td>\n",
              "      <td>make</td>\n",
              "      <td>workers</td>\n",
              "      <td>today</td>\n",
              "      <td>work</td>\n",
              "      <td>united</td>\n",
              "      <td>americans</td>\n",
              "      <td>states</td>\n",
              "      <td>years</td>\n",
              "    </tr>\n",
              "    <tr>\n",
              "      <th>1</th>\n",
              "      <td>Congress Power</td>\n",
              "      <td>america</td>\n",
              "      <td>world</td>\n",
              "      <td>future</td>\n",
              "      <td>help</td>\n",
              "      <td>year</td>\n",
              "      <td>protect</td>\n",
              "      <td>congress</td>\n",
              "      <td>power</td>\n",
              "      <td>care</td>\n",
              "      <td>states</td>\n",
              "    </tr>\n",
              "    <tr>\n",
              "      <th>2</th>\n",
              "      <td>American People</td>\n",
              "      <td>year</td>\n",
              "      <td>work</td>\n",
              "      <td>just</td>\n",
              "      <td>want</td>\n",
              "      <td>know</td>\n",
              "      <td>make</td>\n",
              "      <td>people</td>\n",
              "      <td>states</td>\n",
              "      <td>america</td>\n",
              "      <td>years</td>\n",
              "    </tr>\n",
              "    <tr>\n",
              "      <th>3</th>\n",
              "      <td>Leadership</td>\n",
              "      <td>american</td>\n",
              "      <td>believe</td>\n",
              "      <td>business</td>\n",
              "      <td>country</td>\n",
              "      <td>tax</td>\n",
              "      <td>security</td>\n",
              "      <td>america</td>\n",
              "      <td>leadership</td>\n",
              "      <td>make</td>\n",
              "      <td>new</td>\n",
              "    </tr>\n",
              "    <tr>\n",
              "      <th>4</th>\n",
              "      <td>Health</td>\n",
              "      <td>american</td>\n",
              "      <td>people</td>\n",
              "      <td>america</td>\n",
              "      <td>world</td>\n",
              "      <td>right</td>\n",
              "      <td>jobs</td>\n",
              "      <td>years</td>\n",
              "      <td>new</td>\n",
              "      <td>need</td>\n",
              "      <td>health</td>\n",
              "    </tr>\n",
              "    <tr>\n",
              "      <th>5</th>\n",
              "      <td>Government Support</td>\n",
              "      <td>time</td>\n",
              "      <td>years</td>\n",
              "      <td>change</td>\n",
              "      <td>long</td>\n",
              "      <td>year</td>\n",
              "      <td>great</td>\n",
              "      <td>govenment</td>\n",
              "      <td>mr</td>\n",
              "      <td>support</td>\n",
              "      <td>ve</td>\n",
              "    </tr>\n",
              "    <tr>\n",
              "      <th>6</th>\n",
              "      <td>Democrats</td>\n",
              "      <td>americans</td>\n",
              "      <td>work</td>\n",
              "      <td>people</td>\n",
              "      <td>tonight</td>\n",
              "      <td>new</td>\n",
              "      <td>nation</td>\n",
              "      <td>democrats</td>\n",
              "      <td>congress</td>\n",
              "      <td>childern</td>\n",
              "      <td>health</td>\n",
              "    </tr>\n",
              "    <tr>\n",
              "      <th>7</th>\n",
              "      <td>World War II</td>\n",
              "      <td>families</td>\n",
              "      <td>america</td>\n",
              "      <td>let</td>\n",
              "      <td>war</td>\n",
              "      <td>work</td>\n",
              "      <td>world</td>\n",
              "      <td>country</td>\n",
              "      <td>make</td>\n",
              "      <td>ll</td>\n",
              "      <td>going</td>\n",
              "    </tr>\n",
              "    <tr>\n",
              "      <th>8</th>\n",
              "      <td>Diplomacy</td>\n",
              "      <td>like</td>\n",
              "      <td>american</td>\n",
              "      <td>ll</td>\n",
              "      <td>america</td>\n",
              "      <td>country</td>\n",
              "      <td>just</td>\n",
              "      <td>help</td>\n",
              "      <td>diplomacy</td>\n",
              "      <td>support</td>\n",
              "      <td>time</td>\n",
              "    </tr>\n",
              "    <tr>\n",
              "      <th>9</th>\n",
              "      <td>Security</td>\n",
              "      <td>security</td>\n",
              "      <td>americans</td>\n",
              "      <td>god</td>\n",
              "      <td>time</td>\n",
              "      <td>ve</td>\n",
              "      <td>things</td>\n",
              "      <td>bless</td>\n",
              "      <td>new</td>\n",
              "      <td>country</td>\n",
              "      <td>come</td>\n",
              "    </tr>\n",
              "  </tbody>\n",
              "</table>\n",
              "</div>"
            ],
            "text/plain": [
              "                Label      Word1      Word2  ...       Word8     Word9  Word10\n",
              "0       Job assurance        job        new  ...   americans    states   years\n",
              "1      Congress Power    america      world  ...       power      care  states\n",
              "2     American People       year       work  ...      states   america   years\n",
              "3          Leadership   american    believe  ...  leadership      make     new\n",
              "4              Health   american     people  ...         new      need  health\n",
              "5  Government Support       time      years  ...          mr   support      ve\n",
              "6           Democrats  americans       work  ...    congress  childern  health\n",
              "7        World War II   families    america  ...       make         ll   going\n",
              "8           Diplomacy       like   american  ...   diplomacy   support    time\n",
              "9            Security   security  americans  ...         new   country    come\n",
              "\n",
              "[10 rows x 11 columns]"
            ]
          },
          "metadata": {
            "tags": []
          },
          "execution_count": 23
        }
      ]
    },
    {
      "cell_type": "markdown",
      "metadata": {
        "id": "Vf0TBchLQrd0",
        "colab_type": "text"
      },
      "source": [
        "###Import nltk and gensim Libraries for Topic Naming using the manually labelled CSV files and the topics from LDA model"
      ]
    },
    {
      "cell_type": "code",
      "metadata": {
        "id": "aYMvkCGurF9H",
        "colab_type": "code",
        "outputId": "851ca2e9-9779-40a8-c701-f21f126a1e25",
        "colab": {
          "base_uri": "https://localhost:8080/",
          "height": 564
        }
      },
      "source": [
        "!pip install nltk\n",
        "!pip install gensim"
      ],
      "execution_count": 24,
      "outputs": [
        {
          "output_type": "stream",
          "text": [
            "Requirement already satisfied: nltk in /usr/local/lib/python3.6/dist-packages (3.2.5)\n",
            "Requirement already satisfied: six in /usr/local/lib/python3.6/dist-packages (from nltk) (1.12.0)\n",
            "Requirement already satisfied: gensim in /usr/local/lib/python3.6/dist-packages (3.6.0)\n",
            "Requirement already satisfied: numpy>=1.11.3 in /usr/local/lib/python3.6/dist-packages (from gensim) (1.18.2)\n",
            "Requirement already satisfied: smart-open>=1.2.1 in /usr/local/lib/python3.6/dist-packages (from gensim) (1.10.0)\n",
            "Requirement already satisfied: scipy>=0.18.1 in /usr/local/lib/python3.6/dist-packages (from gensim) (1.4.1)\n",
            "Requirement already satisfied: six>=1.5.0 in /usr/local/lib/python3.6/dist-packages (from gensim) (1.12.0)\n",
            "Requirement already satisfied: boto3 in /usr/local/lib/python3.6/dist-packages (from smart-open>=1.2.1->gensim) (1.12.38)\n",
            "Requirement already satisfied: requests in /usr/local/lib/python3.6/dist-packages (from smart-open>=1.2.1->gensim) (2.21.0)\n",
            "Requirement already satisfied: google-cloud-storage in /usr/local/lib/python3.6/dist-packages (from smart-open>=1.2.1->gensim) (1.18.1)\n",
            "Requirement already satisfied: botocore<1.16.0,>=1.15.38 in /usr/local/lib/python3.6/dist-packages (from boto3->smart-open>=1.2.1->gensim) (1.15.38)\n",
            "Requirement already satisfied: jmespath<1.0.0,>=0.7.1 in /usr/local/lib/python3.6/dist-packages (from boto3->smart-open>=1.2.1->gensim) (0.9.5)\n",
            "Requirement already satisfied: s3transfer<0.4.0,>=0.3.0 in /usr/local/lib/python3.6/dist-packages (from boto3->smart-open>=1.2.1->gensim) (0.3.3)\n",
            "Requirement already satisfied: chardet<3.1.0,>=3.0.2 in /usr/local/lib/python3.6/dist-packages (from requests->smart-open>=1.2.1->gensim) (3.0.4)\n",
            "Requirement already satisfied: idna<2.9,>=2.5 in /usr/local/lib/python3.6/dist-packages (from requests->smart-open>=1.2.1->gensim) (2.8)\n",
            "Requirement already satisfied: certifi>=2017.4.17 in /usr/local/lib/python3.6/dist-packages (from requests->smart-open>=1.2.1->gensim) (2020.4.5.1)\n",
            "Requirement already satisfied: urllib3<1.25,>=1.21.1 in /usr/local/lib/python3.6/dist-packages (from requests->smart-open>=1.2.1->gensim) (1.24.3)\n",
            "Requirement already satisfied: google-auth>=1.2.0 in /usr/local/lib/python3.6/dist-packages (from google-cloud-storage->smart-open>=1.2.1->gensim) (1.7.2)\n",
            "Requirement already satisfied: google-cloud-core<2.0dev,>=1.0.0 in /usr/local/lib/python3.6/dist-packages (from google-cloud-storage->smart-open>=1.2.1->gensim) (1.0.3)\n",
            "Requirement already satisfied: google-resumable-media<0.5.0dev,>=0.3.1 in /usr/local/lib/python3.6/dist-packages (from google-cloud-storage->smart-open>=1.2.1->gensim) (0.4.1)\n",
            "Requirement already satisfied: docutils<0.16,>=0.10 in /usr/local/lib/python3.6/dist-packages (from botocore<1.16.0,>=1.15.38->boto3->smart-open>=1.2.1->gensim) (0.15.2)\n",
            "Requirement already satisfied: python-dateutil<3.0.0,>=2.1 in /usr/local/lib/python3.6/dist-packages (from botocore<1.16.0,>=1.15.38->boto3->smart-open>=1.2.1->gensim) (2.8.1)\n",
            "Requirement already satisfied: cachetools<3.2,>=2.0.0 in /usr/local/lib/python3.6/dist-packages (from google-auth>=1.2.0->google-cloud-storage->smart-open>=1.2.1->gensim) (3.1.1)\n",
            "Requirement already satisfied: rsa<4.1,>=3.1.4 in /usr/local/lib/python3.6/dist-packages (from google-auth>=1.2.0->google-cloud-storage->smart-open>=1.2.1->gensim) (4.0)\n",
            "Requirement already satisfied: setuptools>=40.3.0 in /usr/local/lib/python3.6/dist-packages (from google-auth>=1.2.0->google-cloud-storage->smart-open>=1.2.1->gensim) (46.1.3)\n",
            "Requirement already satisfied: pyasn1-modules>=0.2.1 in /usr/local/lib/python3.6/dist-packages (from google-auth>=1.2.0->google-cloud-storage->smart-open>=1.2.1->gensim) (0.2.8)\n",
            "Requirement already satisfied: google-api-core<2.0.0dev,>=1.14.0 in /usr/local/lib/python3.6/dist-packages (from google-cloud-core<2.0dev,>=1.0.0->google-cloud-storage->smart-open>=1.2.1->gensim) (1.16.0)\n",
            "Requirement already satisfied: pyasn1>=0.1.3 in /usr/local/lib/python3.6/dist-packages (from rsa<4.1,>=3.1.4->google-auth>=1.2.0->google-cloud-storage->smart-open>=1.2.1->gensim) (0.4.8)\n",
            "Requirement already satisfied: googleapis-common-protos<2.0dev,>=1.6.0 in /usr/local/lib/python3.6/dist-packages (from google-api-core<2.0.0dev,>=1.14.0->google-cloud-core<2.0dev,>=1.0.0->google-cloud-storage->smart-open>=1.2.1->gensim) (1.51.0)\n",
            "Requirement already satisfied: protobuf>=3.4.0 in /usr/local/lib/python3.6/dist-packages (from google-api-core<2.0.0dev,>=1.14.0->google-cloud-core<2.0dev,>=1.0.0->google-cloud-storage->smart-open>=1.2.1->gensim) (3.10.0)\n",
            "Requirement already satisfied: pytz in /usr/local/lib/python3.6/dist-packages (from google-api-core<2.0.0dev,>=1.14.0->google-cloud-core<2.0dev,>=1.0.0->google-cloud-storage->smart-open>=1.2.1->gensim) (2018.9)\n"
          ],
          "name": "stdout"
        }
      ]
    },
    {
      "cell_type": "code",
      "metadata": {
        "id": "MBpVzkWrreD6",
        "colab_type": "code",
        "outputId": "6b949f63-3a85-44f8-ec90-5ffe1f9e9c2a",
        "colab": {
          "base_uri": "https://localhost:8080/",
          "height": 68
        }
      },
      "source": [
        "import nltk\n",
        "import gensim\n",
        "nltk.download('punkt')"
      ],
      "execution_count": 25,
      "outputs": [
        {
          "output_type": "stream",
          "text": [
            "[nltk_data] Downloading package punkt to /root/nltk_data...\n",
            "[nltk_data]   Package punkt is already up-to-date!\n"
          ],
          "name": "stdout"
        },
        {
          "output_type": "execute_result",
          "data": {
            "text/plain": [
              "True"
            ]
          },
          "metadata": {
            "tags": []
          },
          "execution_count": 25
        }
      ]
    },
    {
      "cell_type": "code",
      "metadata": {
        "id": "fT4SA3MUrhfV",
        "colab_type": "code",
        "colab": {}
      },
      "source": [
        "df_new['LDA_Labels']=df_new.Word1 + ' ' + df_new.Word2 +' ' + df_new.Word3 +' ' + df_new.Word4 +' ' + df_new.Word5 +' ' + df_new.Word6 +' ' + df_new.Word7 +' ' + df_new.Word8 +' ' + df_new.Word9 +' ' + df_new.Word10"
      ],
      "execution_count": 0,
      "outputs": []
    },
    {
      "cell_type": "code",
      "metadata": {
        "id": "4STh9hcGryUK",
        "colab_type": "code",
        "outputId": "0fec09a0-f785-4db2-a914-6acfa2ff9e68",
        "colab": {
          "base_uri": "https://localhost:8080/",
          "height": 68
        }
      },
      "source": [
        "df_new.columns"
      ],
      "execution_count": 27,
      "outputs": [
        {
          "output_type": "execute_result",
          "data": {
            "text/plain": [
              "Index(['Label', 'Word1', 'Word2', 'Word3', 'Word4', 'Word5', 'Word6', 'Word7',\n",
              "       'Word8', 'Word9', 'Word10', 'LDA_Labels'],\n",
              "      dtype='object')"
            ]
          },
          "metadata": {
            "tags": []
          },
          "execution_count": 27
        }
      ]
    },
    {
      "cell_type": "markdown",
      "metadata": {
        "id": "8Lxj3BxORAOW",
        "colab_type": "text"
      },
      "source": [
        "Tokenizing the words and converting the words into Lower Case"
      ]
    },
    {
      "cell_type": "code",
      "metadata": {
        "id": "D6OfBmilr0sZ",
        "colab_type": "code",
        "colab": {}
      },
      "source": [
        "from nltk.tokenize import word_tokenize, sent_tokenize\n",
        "tokens = [[w.lower() for w in word_tokenize(text)] for text in df_new.LDA_Labels]"
      ],
      "execution_count": 0,
      "outputs": []
    },
    {
      "cell_type": "code",
      "metadata": {
        "id": "krXpFqewr_dT",
        "colab_type": "code",
        "outputId": "fefa47f5-d49f-42c6-9bc7-9a18db5ad958",
        "colab": {
          "base_uri": "https://localhost:8080/",
          "height": 1000
        }
      },
      "source": [
        "tokens"
      ],
      "execution_count": 29,
      "outputs": [
        {
          "output_type": "execute_result",
          "data": {
            "text/plain": [
              "[['job',\n",
              "  'new',\n",
              "  'make',\n",
              "  'workers',\n",
              "  'today',\n",
              "  'work',\n",
              "  'united',\n",
              "  'americans',\n",
              "  'states',\n",
              "  'years'],\n",
              " ['america',\n",
              "  'world',\n",
              "  'future',\n",
              "  'help',\n",
              "  'year',\n",
              "  'protect',\n",
              "  'congress',\n",
              "  'power',\n",
              "  'care',\n",
              "  'states'],\n",
              " ['year',\n",
              "  'work',\n",
              "  'just',\n",
              "  'want',\n",
              "  'know',\n",
              "  'make',\n",
              "  'people',\n",
              "  'states',\n",
              "  'america',\n",
              "  'years'],\n",
              " ['american',\n",
              "  'believe',\n",
              "  'business',\n",
              "  'country',\n",
              "  'tax',\n",
              "  'security',\n",
              "  'america',\n",
              "  'leadership',\n",
              "  'make',\n",
              "  'new'],\n",
              " ['american',\n",
              "  'people',\n",
              "  'america',\n",
              "  'world',\n",
              "  'right',\n",
              "  'jobs',\n",
              "  'years',\n",
              "  'new',\n",
              "  'need',\n",
              "  'health'],\n",
              " ['time',\n",
              "  'years',\n",
              "  'change',\n",
              "  'long',\n",
              "  'year',\n",
              "  'great',\n",
              "  'govenment',\n",
              "  'mr',\n",
              "  'support',\n",
              "  've'],\n",
              " ['americans',\n",
              "  'work',\n",
              "  'people',\n",
              "  'tonight',\n",
              "  'new',\n",
              "  'nation',\n",
              "  'democrats',\n",
              "  'congress',\n",
              "  'childern',\n",
              "  'health'],\n",
              " ['families',\n",
              "  'america',\n",
              "  'let',\n",
              "  'war',\n",
              "  'work',\n",
              "  'world',\n",
              "  'country',\n",
              "  'make',\n",
              "  'll',\n",
              "  'going'],\n",
              " ['like',\n",
              "  'american',\n",
              "  'll',\n",
              "  'america',\n",
              "  'country',\n",
              "  'just',\n",
              "  'help',\n",
              "  'diplomacy',\n",
              "  'support',\n",
              "  'time'],\n",
              " ['security',\n",
              "  'americans',\n",
              "  'god',\n",
              "  'time',\n",
              "  've',\n",
              "  'things',\n",
              "  'bless',\n",
              "  'new',\n",
              "  'country',\n",
              "  'come']]"
            ]
          },
          "metadata": {
            "tags": []
          },
          "execution_count": 29
        }
      ]
    },
    {
      "cell_type": "code",
      "metadata": {
        "id": "WaP_axcisE-3",
        "colab_type": "code",
        "colab": {}
      },
      "source": [
        "dict = gensim.corpora.Dictionary(tokens)\n"
      ],
      "execution_count": 0,
      "outputs": []
    },
    {
      "cell_type": "code",
      "metadata": {
        "id": "v5y-Y-u-sdtH",
        "colab_type": "code",
        "outputId": "2ec7e4de-1ed7-4f2f-c7ed-65d1b9a7dee2",
        "colab": {
          "base_uri": "https://localhost:8080/",
          "height": 54
        }
      },
      "source": [
        "print(dict.token2id)"
      ],
      "execution_count": 31,
      "outputs": [
        {
          "output_type": "stream",
          "text": [
            "{'americans': 0, 'job': 1, 'make': 2, 'new': 3, 'states': 4, 'today': 5, 'united': 6, 'work': 7, 'workers': 8, 'years': 9, 'america': 10, 'care': 11, 'congress': 12, 'future': 13, 'help': 14, 'power': 15, 'protect': 16, 'world': 17, 'year': 18, 'just': 19, 'know': 20, 'people': 21, 'want': 22, 'american': 23, 'believe': 24, 'business': 25, 'country': 26, 'leadership': 27, 'security': 28, 'tax': 29, 'health': 30, 'jobs': 31, 'need': 32, 'right': 33, 'change': 34, 'govenment': 35, 'great': 36, 'long': 37, 'mr': 38, 'support': 39, 'time': 40, 've': 41, 'childern': 42, 'democrats': 43, 'nation': 44, 'tonight': 45, 'families': 46, 'going': 47, 'let': 48, 'll': 49, 'war': 50, 'diplomacy': 51, 'like': 52, 'bless': 53, 'come': 54, 'god': 55, 'things': 56}\n"
          ],
          "name": "stdout"
        }
      ]
    },
    {
      "cell_type": "code",
      "metadata": {
        "id": "eonjYnwKsem-",
        "colab_type": "code",
        "outputId": "ce843aee-2765-4a67-aaf3-e63e2ec9c7eb",
        "colab": {
          "base_uri": "https://localhost:8080/",
          "height": 34
        }
      },
      "source": [
        "print(dict.filter_tokens)"
      ],
      "execution_count": 32,
      "outputs": [
        {
          "output_type": "stream",
          "text": [
            "<bound method Dictionary.filter_tokens of <gensim.corpora.dictionary.Dictionary object at 0x7f74c30877f0>>\n"
          ],
          "name": "stdout"
        }
      ]
    },
    {
      "cell_type": "code",
      "metadata": {
        "id": "DLT5YhMKspJ4",
        "colab_type": "code",
        "outputId": "2a3f1462-30b5-4646-9d35-4b9c3ca54fa8",
        "colab": {
          "base_uri": "https://localhost:8080/",
          "height": 34
        }
      },
      "source": [
        "print(dict.values)"
      ],
      "execution_count": 33,
      "outputs": [
        {
          "output_type": "stream",
          "text": [
            "<bound method Mapping.values of <gensim.corpora.dictionary.Dictionary object at 0x7f74c30877f0>>\n"
          ],
          "name": "stdout"
        }
      ]
    },
    {
      "cell_type": "markdown",
      "metadata": {
        "id": "zag6qz6RRNgC",
        "colab_type": "text"
      },
      "source": [
        "###To convert tokenized topics to vectors to use for Finding Cosine similarity and TF_IDF"
      ]
    },
    {
      "cell_type": "code",
      "metadata": {
        "id": "0XuKCmXjsupp",
        "colab_type": "code",
        "colab": {}
      },
      "source": [
        "corpus = [dict.doc2bow(tokens) for tokens in tokens]"
      ],
      "execution_count": 0,
      "outputs": []
    },
    {
      "cell_type": "markdown",
      "metadata": {
        "id": "EXCHsgGFtDI2",
        "colab_type": "text"
      },
      "source": [
        "###TF-IDF [Term Frequency and Inverse Document Frequency]"
      ]
    },
    {
      "cell_type": "code",
      "metadata": {
        "id": "o0Z0JZTWs9go",
        "colab_type": "code",
        "outputId": "8c458139-0858-49b8-e1e2-88b8cbe3f8f1",
        "colab": {
          "base_uri": "https://localhost:8080/",
          "height": 207
        }
      },
      "source": [
        "tf_idf = gensim.models.TfidfModel(corpus)\n",
        "for doc in tf_idf[corpus]:\n",
        "    print([[dict[id], np.around(freq, decimals=2)] for id, freq in doc])"
      ],
      "execution_count": 35,
      "outputs": [
        {
          "output_type": "stream",
          "text": [
            "[['americans', 0.23], ['job', 0.44], ['make', 0.18], ['new', 0.13], ['states', 0.23], ['today', 0.44], ['united', 0.44], ['work', 0.18], ['workers', 0.44], ['years', 0.18]]\n",
            "[['states', 0.22], ['america', 0.09], ['care', 0.41], ['congress', 0.29], ['future', 0.41], ['help', 0.29], ['power', 0.41], ['protect', 0.41], ['world', 0.22], ['year', 0.22]]\n",
            "[['make', 0.2], ['states', 0.27], ['work', 0.2], ['years', 0.2], ['america', 0.11], ['year', 0.27], ['just', 0.36], ['know', 0.51], ['people', 0.27], ['want', 0.51]]\n",
            "[['make', 0.17], ['new', 0.13], ['america', 0.1], ['american', 0.23], ['believe', 0.44], ['business', 0.44], ['country', 0.17], ['leadership', 0.44], ['security', 0.31], ['tax', 0.44]]\n",
            "[['new', 0.14], ['years', 0.19], ['america', 0.1], ['world', 0.24], ['people', 0.24], ['american', 0.24], ['health', 0.33], ['jobs', 0.47], ['need', 0.47], ['right', 0.47]]\n",
            "[['years', 0.15], ['year', 0.2], ['change', 0.39], ['govenment', 0.39], ['great', 0.39], ['long', 0.39], ['mr', 0.39], ['support', 0.27], ['time', 0.2], ['ve', 0.27]]\n",
            "[['americans', 0.22], ['new', 0.13], ['work', 0.17], ['congress', 0.29], ['people', 0.22], ['health', 0.29], ['childern', 0.42], ['democrats', 0.42], ['nation', 0.42], ['tonight', 0.42]]\n",
            "[['make', 0.17], ['work', 0.17], ['america', 0.1], ['world', 0.23], ['country', 0.17], ['families', 0.43], ['going', 0.43], ['let', 0.43], ['ll', 0.3], ['war', 0.43]]\n",
            "[['america', 0.1], ['help', 0.32], ['just', 0.32], ['american', 0.24], ['country', 0.18], ['support', 0.32], ['time', 0.24], ['ll', 0.32], ['diplomacy', 0.46], ['like', 0.46]]\n",
            "[['americans', 0.22], ['new', 0.13], ['country', 0.17], ['security', 0.29], ['time', 0.22], ['ve', 0.29], ['bless', 0.42], ['come', 0.42], ['god', 0.42], ['things', 0.42]]\n"
          ],
          "name": "stdout"
        }
      ]
    },
    {
      "cell_type": "markdown",
      "metadata": {
        "id": "B9XfcOGh56-b",
        "colab_type": "text"
      },
      "source": [
        "Reference https://dev.to/coderasha/compare-documents-similarity-using-python-nlp-4odp"
      ]
    },
    {
      "cell_type": "markdown",
      "metadata": {
        "id": "7E_Vm3STRWLY",
        "colab_type": "text"
      },
      "source": [
        "Using Gensim library to find similarity between the labels and the words generated from LDA Topic Modeling"
      ]
    },
    {
      "cell_type": "code",
      "metadata": {
        "id": "pj_UZfS_6gki",
        "colab_type": "code",
        "outputId": "c690a212-d7d7-4860-a48c-1e292fbfa1d6",
        "colab": {
          "base_uri": "https://localhost:8080/",
          "height": 71
        }
      },
      "source": [
        "sims = gensim.similarities.Similarity('.',tf_idf[corpus],\n",
        "                                        num_features=len(dict))"
      ],
      "execution_count": 37,
      "outputs": [
        {
          "output_type": "stream",
          "text": [
            "/usr/local/lib/python3.6/dist-packages/gensim/matutils.py:718: FutureWarning: Conversion of the second argument of issubdtype from `int` to `np.signedinteger` is deprecated. In future, it will be treated as `np.int64 == np.dtype(int).type`.\n",
            "  if np.issubdtype(vec.dtype, np.int):\n"
          ],
          "name": "stderr"
        }
      ]
    },
    {
      "cell_type": "markdown",
      "metadata": {
        "id": "2M81CeXcMv2O",
        "colab_type": "text"
      },
      "source": [
        "###Feeding some sentences from the test article and finding the TF-IDF "
      ]
    },
    {
      "cell_type": "markdown",
      "metadata": {
        "id": "c_bcBfgoS6vw",
        "colab_type": "text"
      },
      "source": [
        "Creatiin Query Document"
      ]
    },
    {
      "cell_type": "code",
      "metadata": {
        "id": "Q1mSw8UptHNB",
        "colab_type": "code",
        "colab": {}
      },
      "source": [
        "mat = []\n",
        "\n",
        "file1=['Thank you very much. Mr. Speaker, Mr. Vice President, members of Congress, the first lady of the United States']\n",
        "file2=['I am here tonight to deliver a message of unity and strength, and it is a message deeply delivered from my heart']\n",
        "file3=['But then the quiet voices became a loud chorus, as thousands of citizens now spoke out together, from cities small and large, all across our country']\n",
        "file=[file1,file2,file3]\n",
        "def IsSimilarText(sentences):\n",
        "  for sentence in sentences:\n",
        "    tokens = sent_tokenize(sentence)\n",
        "    for line in tokens:\n",
        "        mat.append(line)\n",
        "  print(\"\\nNumber of documents:\",len(mat))  \n",
        "  for line in mat:\n",
        "      query_doc = [w.lower() for w in word_tokenize(line)]\n",
        "      query_doc_bow = dict.doc2bow(query_doc) \n",
        "  query_doc_tf_idf = tf_idf[query_doc_bow]\n",
        "  max_number = float('-inf')\n",
        "  label=-1\n",
        "  for i,j in enumerate(sims[query_doc_tf_idf]):\n",
        "    print('Similarity with ',i,'the Label is',j)\n",
        "    if j > max_number:\n",
        "      label = i\n",
        "      max_number = j\n",
        "  print(\"\\nLabel for this Topic is:\",df_new.Label[label])"
      ],
      "execution_count": 0,
      "outputs": []
    },
    {
      "cell_type": "code",
      "metadata": {
        "id": "5THSibtYtv2y",
        "colab_type": "code",
        "outputId": "88200aaa-5c2d-4ee2-f92c-dd0602b9d72d",
        "colab": {
          "base_uri": "https://localhost:8080/",
          "height": 1000
        }
      },
      "source": [
        "print(\"Printing all labels:\\n\",df_new.Label)\n",
        "for i in file:\n",
        "  print(\"\\n\",i,\"\\n\")\n",
        "  IsSimilarText(i)"
      ],
      "execution_count": 39,
      "outputs": [
        {
          "output_type": "stream",
          "text": [
            "Printing all labels:\n",
            " 0         Job assurance\n",
            "1        Congress Power\n",
            "2       American People\n",
            "3            Leadership\n",
            "4                Health\n",
            "5    Government Support\n",
            "6             Democrats\n",
            "7          World War II\n",
            "8             Diplomacy\n",
            "9              Security\n",
            "Name: Label, dtype: object\n",
            "\n",
            " ['Thank you very much. Mr. Speaker, Mr. Vice President, members of Congress, the first lady of the United States'] \n",
            "\n",
            "\n",
            "Number of documents: 2\n",
            "Similarity with  0 the Label is 0.42427853\n",
            "Similarity with  1 the Label is 0.23740247\n",
            "Similarity with  2 the Label is 0.105203815\n",
            "Similarity with  3 the Label is 0.0\n",
            "Similarity with  4 the Label is 0.0\n",
            "Similarity with  5 the Label is 0.0\n",
            "Similarity with  6 the Label is 0.15318702\n",
            "Similarity with  7 the Label is 0.0\n",
            "Similarity with  8 the Label is 0.0\n",
            "Similarity with  9 the Label is 0.0\n",
            "\n",
            "Label for this Topic is: Job assurance\n",
            "\n",
            " ['I am here tonight to deliver a message of unity and strength, and it is a message deeply delivered from my heart'] \n",
            "\n",
            "\n",
            "Number of documents: 3\n",
            "Similarity with  0 the Label is 0.0\n",
            "Similarity with  1 the Label is 0.0\n",
            "Similarity with  2 the Label is 0.0\n",
            "Similarity with  3 the Label is 0.0\n",
            "Similarity with  4 the Label is 0.0\n",
            "Similarity with  5 the Label is 0.0\n",
            "Similarity with  6 the Label is 0.41620094\n",
            "Similarity with  7 the Label is 0.0\n",
            "Similarity with  8 the Label is 0.0\n",
            "Similarity with  9 the Label is 0.0\n",
            "\n",
            "Label for this Topic is: Democrats\n",
            "\n",
            " ['But then the quiet voices became a loud chorus, as thousands of citizens now spoke out together, from cities small and large, all across our country'] \n",
            "\n",
            "\n",
            "Number of documents: 4\n",
            "Similarity with  0 the Label is 0.0\n",
            "Similarity with  1 the Label is 0.0\n",
            "Similarity with  2 the Label is 0.0\n",
            "Similarity with  3 the Label is 0.17419848\n",
            "Similarity with  4 the Label is 0.0\n",
            "Similarity with  5 the Label is 0.0\n",
            "Similarity with  6 the Label is 0.0\n",
            "Similarity with  7 the Label is 0.1730788\n",
            "Similarity with  8 the Label is 0.18338807\n",
            "Similarity with  9 the Label is 0.16562301\n",
            "\n",
            "Label for this Topic is: Diplomacy\n"
          ],
          "name": "stdout"
        },
        {
          "output_type": "stream",
          "text": [
            "/usr/local/lib/python3.6/dist-packages/smart_open/smart_open_lib.py:410: UserWarning: This function is deprecated, use smart_open.open instead. See the migration notes for details: https://github.com/RaRe-Technologies/smart_open/blob/master/README.rst#migrating-to-the-new-open-function\n",
            "  'See the migration notes for details: %s' % _MIGRATION_NOTES_URL\n",
            "/usr/local/lib/python3.6/dist-packages/gensim/similarities/docsim.py:518: FutureWarning: arrays to stack must be passed as a \"sequence\" type such as list or tuple. Support for non-sequence iterables such as generators is deprecated as of NumPy 1.16 and will raise an error in the future.\n",
            "  result = numpy.hstack(shard_results)\n"
          ],
          "name": "stderr"
        }
      ]
    },
    {
      "cell_type": "markdown",
      "metadata": {
        "id": "st4lyGn3Rjge",
        "colab_type": "text"
      },
      "source": [
        "**Output Above** shows that using the Manually labeled Topics and the Words generated from the LDA model are used on Test file to predict the Topic names for the Test file based on Similarity notion"
      ]
    }
  ]
}